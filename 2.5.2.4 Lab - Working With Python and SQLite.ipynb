{
 "cells": [
  {
   "cell_type": "markdown",
   "metadata": {},
   "source": [
    "![Title](cisco.png)"
   ]
  },
  {
   "cell_type": "markdown",
   "metadata": {},
   "source": [
    "## Lab - Cómo trabajar con python y SQLite\n"
   ]
  },
  {
   "cell_type": "markdown",
   "metadata": {},
   "source": [
    "### Part 1: Cree la base de datos\n",
    "Emplearemos SQLite para la conexión a la base de datos. SQLite es una biblioteca que implementa un motor de base de datos SQL transaccional autónomo que elimina la necesidad de un servidor SQL. Una utilidad simple de SQLite llamada sqlite3 se puede instalar en Raspberry Pi. SQLite simplifica considerablemente el proceso de la base de datos SQL. También utilizaremos cvskit, un conjunto de herramientas diseñadas para convertir diversas bases de datos al formato .csv (valores separados por comas)."
   ]
  },
  {
   "cell_type": "markdown",
   "metadata": {},
   "source": [
    "##### Step 1: Configure el entorno de trabajo.\n",
    "\n",
    "###### a) Install SQLite."
   ]
  },
  {
   "cell_type": "markdown",
   "metadata": {},
   "source": [
    "`#apt-get update` #Actualiza y sincroniza la lista de paquetes de Pi con el servidor repositorio, asegura que se utilicen las versiones más recientes de los paquetes.\n",
    "\n",
    "`#apt-get -y install sqlite3` #Instala sqlite3, un paquete de SQLite para Pi#apt-get -y install sqlite3 #Instala sqlite3, un paquete de SQLite para Pi.\n",
    "\n",
    "`# pip install csvkit`"
   ]
  },
  {
   "cell_type": "markdown",
   "metadata": {},
   "source": [
    "##### Step 2: Trabajo con SQLite.\n",
    "\n",
    "Considere la siguiente tabla, que contiene información acerca de 8 personas, en filas y columnas.\n",
    "<table>\n",
    "<tr><td>ID</td><td>Name</td><td>Gender</td><td>Race</td><td>Force Sensitive</td></tr>\n",
    "<tr><td>001</td><td>Han</td><td>Male</td><td>Human</td><td>No</td></tr>\n",
    "<tr><td>002</td><td>Leia</td><td>Female</td><td>Human</td><td>Yes</td></tr>\n",
    "<tr><td>003</td><td>Luke</td><td>Male</td><td>Human</td><td>Yes</td></tr>\n",
    "<tr><td>004</td><td>Obi-Wan</td><td>Male</td><td>Human</td><td>Yes</td></tr>\n",
    "<tr><td>005</td><td>Anakin</td><td>Male</td><td>Human</td><td>Yes</td></tr>\n",
    "<tr><td>006</td><td>Jabba</td><td>Male</td><td>Hutt</td><td>No</td></tr>\n",
    "<tr><td>007</td><td>Greedo</td><td>Male</td><td>Rodian</td><td>No</td></tr>\n",
    "<tr><td>008</td><td>R2D2</td><td>N/A</td><td>Droid</td><td>No</td></tr>\n",
    "<tr><td>009</td><td>C3PO</td><td>N/A</td><td>Droid</td><td>No</td></tr>\n",
    "</table><br>\n",
    "\n",
    "Vamos a trabajar en el directorio /home/pi/notebooks/myfiles. Para cambiar a ese directorio, utilice el comando cd, \n",
    "`#cd myfile`\n",
    "\n",
    "Utilizamos `sqlite3` para crear una nueva base de datos SQLite denominada `phonebook.db`. \n",
    "`# sqlite3 phonebook.db`<br>"
   ]
  },
  {
   "cell_type": "markdown",
   "metadata": {},
   "source": [
    "La utilidad `sqlite` muestra información de la versión y presenta su propmpt, sqlite> . Este prompt indica que la base de datos phonebook.db se creó correctamente y sqlite3 está listo para ejecutar los comandos SQL en ella."
   ]
  },
  {
   "cell_type": "markdown",
   "metadata": {},
   "source": [
    "Crea un tabla en la base de datos denominada coworkers, tendrá 3 columnas: workid (números enteros), nombre y título (20 caracteres varchar)\n",
    "\n",
    "`sqlite> create table coworkers(workid integer,name varchar(20),title varchar(20),number integer);`"
   ]
  },
  {
   "cell_type": "markdown",
   "metadata": {},
   "source": [
    "Una misma base de datos puede contener múltiples tablas.\n",
    "Creamosde manera similar la tabla department que contiene 3 campos.\n",
    "\n",
    "`sqlite> create table department(deptid integer,name varchar(20),number integer);`<br>\n",
    "`sqlite> .quit` #El \".\" antes del comando quit se utilizan para cambiar el formato de entrega de consultas, o ejecutar determinadas declaraciones de pedido armadas previamente."
   ]
  },
  {
   "cell_type": "markdown",
   "metadata": {},
   "source": [
    "Utilice el comando `ls` para enumerar el archivo que contiene la base de datos `phonebook.db` y sus tablas. Utilice elswitch `-l` para mostrar el formato largo de listas que permite ver los permisos, la propiedad, tamaño, y la fecha y hora del archivo.<br>\n",
    "\n",
    "`# ls -l phonebook.db`<br>\n",
    "`-rw-r--r-- 1 root root 3072 Feb  7 01:29 phonebook.db`"
   ]
  },
  {
   "cell_type": "markdown",
   "metadata": {},
   "source": [
    "### Part 2: ingrese los datos y consulte la base de datos"
   ]
  },
  {
   "cell_type": "markdown",
   "metadata": {},
   "source": [
    "##### Step 1: Ingrese los datos en la base de datos\n",
    "\n",
    "Seleccionamos la base de datos phonebook.db. <br>\n",
    "\n",
    "`# sqlite3 phonebook.db`<br><br>\n",
    "Agregamos una entrada a la tabla de coworkers <br>\n",
    "\n",
    "`sqlite> insert into coworkers values(101,'Han Solo','Bounty Hunter',5556667578);`<br>"
   ]
  },
  {
   "cell_type": "markdown",
   "metadata": {},
   "source": [
    "Este comando no funciona bien, otra opción es importar un archivo .csv directamente a la base de datos, así la estructura de la tabla se crea según la estructura del archivo.<br>\n",
    "\n",
    "a) Seleccione y copie el texto en el tablero.<br>\n",
    "\n",
    "workid,name,title,number<br>\n",
    "101,Han Solo,Bounty Hunter,5556667578<br>\n",
    "102,Leia Skywalker,Princess,5556542398<br>\n",
    "103,Luke Skywalker,Jedi,5558963267<br>\n",
    "104,Obi-Wan Kenobi,Jedi,5558963276<br>\n",
    "105,Anakin Skywalker,Sith Lord,5553477621<br>\n",
    "106,Jabba The Hutt,Gangster,5556613456<br>\n",
    "107,Greedo,Debt Collector,5552360918<br>\n",
    "108,R2D2,Astro Droid,5555210125<br>\n",
    "109,C3PO,Protocol Droid,5556633345<br>\n",
    "\n",
    "b) En el terminal de PI, comience <b>nano</b>. Nano es un editor de texto donde podemos crear un nuevo archivo de texto llamado coworkers.csv<br>\n",
    "\n",
    "`# nano coworkers.csv`\n",
    "\n",
    "c) Pegue el texto copiado en la ventana de nano.\n",
    "\n",
    "d) Cuando se haya pegado el texto a coworkers.csv y se hayan eliminado las líneas vacías, presiona CONTROL+X para salir de nano.\n",
    "\n",
    "e) Presiona 'Y' (Yes) para salvar el archivo.\n",
    "\n",
    "f) Para consultar el contenido del archivo CSV, utilice el comando `cat`: (Ya de nuevo en el terminal)\n",
    "\n",
    "`# cat coworkers.csv`\n"
   ]
  },
  {
   "cell_type": "markdown",
   "metadata": {},
   "source": [
    "También puedes crear el archivo csv automáticamente a través de la computadora portátil de Jupyter."
   ]
  },
  {
   "cell_type": "code",
   "execution_count": null,
   "metadata": {
    "collapsed": true
   },
   "outputs": [],
   "source": [
    "!test -e coworkers.csv && rm coworkers.csv\n",
    "!echo \"workid,name,title,number\" >> /home/pi/notebooks/myfiles/coworkers.csv\n",
    "!echo \"101,Han Solo,Bounty Hunter,5556667578\" >> /home/pi/notebooks/myfiles/coworkers.csv\n",
    "!echo \"102,Leia Skywalker,Princess,5556542398\" >> /home/pi/notebooks/myfiles/coworkers.csv\n",
    "!echo \"103,Luke Skywalker,Jedi,5558963267\" >> /home/pi/notebooks/myfiles/coworkers.csv\n",
    "!echo \"104,Obi-Wan Kenobi,Jedi,5558963276\" >> /home/pi/notebooks/myfiles/coworkers.csv\n",
    "!echo \"105,Anakin Skywalker,Sith Lord,5553477621\" >> /home/pi/notebooks/myfiles/coworkers.csv\n",
    "!echo \"106,Jabba The Hutt,Gangster,5556613456\" >> /home/pi/notebooks/myfiles/coworkers.csv\n",
    "!echo \"107,Greedo,Debt Collector,5552360918\" >> /home/pi/notebooks/myfiles/coworkers.csv\n",
    "!echo \"108,R2D2,Astro Droid,5555210125\" >> /home/pi/notebooks/myfiles/coworkers.csv\n",
    "!echo \"109,C3PO,Protocol Droid,5556633345\" >> /home/pi/notebooks/myfiles/coworkers.csv"
   ]
  },
  {
   "cell_type": "markdown",
   "metadata": {},
   "source": [
    "###### Step 2: Importe los datos en la base de datos.\n",
    "Eliminamos la tabla coworkers de la base de datos.<br>\n",
    "\n",
    "En el terminal ingresamos<br>\n",
    "`# sqlite3 phonebook.db`\n",
    "\n",
    "`sqlite>.tables`<br> #Enumera todas las tablas contenidas en la base de datos (coworkers department)<br>\n",
    "`sqlite> drop table coworkers;`<br> #El comando drop elimina la tabla coworkers.<br>\n",
    "\n",
    "Ejecutamos nuevamente el comando .tables para comprobar que se ha eliminado la tabla<br>\n",
    "`sqlite>.tables`<br>\n",
    "`department`<br>\n",
    "`sqlite>.quit`<br>\n",
    "\n",
    "Utilizamos la utilidad `csvsql` para crear una nueva tabla y recuperar los datos contenidos en el archivo coworkers.csv.<br>\n",
    "\n",
    "`# csvsql --db sqlite:////home/pi/notebooks/myfiles/phonebook.db --insert /home/pi/notebooks/myfiles/coworkers.csv`<br>\n",
    " \n",
    "`# sqlite3 phonebook.db\n",
    "`sqlite>.tables`<br>\n",
    "`coworkers department`<br>\n",
    "\n",
    "La tabla coworkers está nuevamente en la base de datos.<br>"
   ]
  },
  {
   "cell_type": "markdown",
   "metadata": {},
   "source": [
    "###### Step 3: Consulte la base de datos\n",
    "\n",
    "Seleccionamos phonebook.db:<br>\n",
    "`# sqlite3 phonebook.db\n",
    "sqlite>`\n",
    "\n",
    "Listamos el contenido de la table <b>coworkers</b>:<br><br>\n",
    "`sqlite> select * from coworkers;\n",
    "101|Han Solo|Bounty Hunter|5556667578\n",
    "102|Leia Skywalker|Princess|5556542398\n",
    "103|Luke Skywalker|Jedi|5558963267\n",
    "104|Obi-Wan Kenobi|Jedi|5558963276\n",
    "105|Anakin Skywalker|Sith Lord|5553477621\n",
    "106|Jabba The Hutt|Gangster|5556613456\n",
    "107|Greedo|Debt Collector|5552360918\n",
    "108|R2D2|Astro Droid|5555210125\n",
    "109|C3PO|Protocol Droid|5556633345\n",
    "sqlite>`\n",
    "\n",
    "Para mostrar los nombres de las entradas con el cargo de Jedi por ejemplo:<br><br>\n",
    "`sqlite> select name from coworkers where title='Jedi';\n",
    "Luke Skywalker\n",
    "Obi-Wan Kenobi\n",
    "sqlite>\n",
    "`"
   ]
  },
  {
   "cell_type": "markdown",
   "metadata": {},
   "source": [
    "### Part 3: Automatice el proceso con Python"
   ]
  },
  {
   "cell_type": "markdown",
   "metadata": {},
   "source": [
    "Usaremos Python para conectarnos a la base de datos y ejecutar algunas consultas.\n",
    "\n",
    "##### Step 1: Importar los módulos."
   ]
  },
  {
   "cell_type": "code",
   "execution_count": 15,
   "metadata": {},
   "outputs": [],
   "source": [
    "import sqlite3  #Esta es una librería para hablar con la base de datos.\n",
    "import pandas as pd # this is a library for data visualization\n",
    "from matplotlib import pyplot as plt\n",
    "%matplotlib inline"
   ]
  },
  {
   "cell_type": "markdown",
   "metadata": {},
   "source": [
    "##### Step 2: Conectando a la base de datos.\n",
    "El objeto de Python <b>sqlite3</b> tiene un método <b>connect()</b> que facilita la conexión con la base de datos. <br>\n",
    "\n",
    "Now that the connection to the database is established and its details are stored and accessible via `conn`variable, we need a way to navigate through the database. In this case, we will use another method of the `sqlite3` object called `cursor()`. Acticng as a moveable pointer inside the database, a cursor is a control structure that will enable us to navigate through tables and records. The cursor is important because it specifies what cell (table, column, and row) is to be read from or written to. To create the cursor, call the method `cursor()` in an established database connection. Since we stored the details of the connection to the phonebook database in the `conn` variable, use that variable to create a cursor, as follows:<br>\n",
    "\n",
    "`conn.cursor()`\n",
    "\n",
    "Use another variable to store the details of the newly created cursor object. The line of code below stores the details of the cursor in the `cur` variable:\n",
    " \n",
    "`cur = conn.cursor()`\n",
    "\n",
    "Below is the full Python program so far:<br>\n"
   ]
  },
  {
   "cell_type": "code",
   "execution_count": 23,
   "metadata": {},
   "outputs": [],
   "source": [
    "sqlite3.connect('/home/pi/notebooks/myfiles/phonebook.db')\n",
    "conn = sqlite3.connect('/home/pi/notebooks/myfiles/phonebook.db')"
   ]
  },
  {
   "cell_type": "markdown",
   "metadata": {},
   "source": [
    "Esta función regresa la conexión, que se almacena en una variable llamada `conn`, para que sea más sencillo volver si fuese necesario.\n",
    "\n",
    "Ahora utilizaremos otro método del objeto sqlite3 denominado `cursor()` para navegar por la base de datos. Utilizado como puntero deslizable en la base de datos, un cursor es una estructura de control que nos permitirá navegar por las tablas y los registros. El cursor es importante porque especifica en qué celda (tabla, columna y fila) se leerá o escribirá contenido."
   ]
  },
  {
   "cell_type": "code",
   "execution_count": 24,
   "metadata": {},
   "outputs": [],
   "source": [
    "cur = conn.cursor()"
   ]
  },
  {
   "cell_type": "markdown",
   "metadata": {},
   "source": [
    "##### Step 3: Ejecuta una consulta.\n",
    "\n",
    "Para ejecutar consultas en la base de datos, utilice el método `execute()`. Escrito como método del objeto de cursor, este método toma, como entrada, una cadena que contiene la consulta que nos interesa.<br>"
   ]
  },
  {
   "cell_type": "code",
   "execution_count": 25,
   "metadata": {},
   "outputs": [
    {
     "data": {
      "text/plain": [
       "<sqlite3.Cursor at 0x6d3db5e0>"
      ]
     },
     "execution_count": 25,
     "metadata": {},
     "output_type": "execute_result"
    }
   ],
   "source": [
    "query = \"SELECT * FROM coworkers;\"\n",
    "cur.execute(query)"
   ]
  },
  {
   "cell_type": "markdown",
   "metadata": {},
   "source": [
    "Los resultados se almacenan en el objeto <b>cur</b>.Para visualizar los resultados, debemos iterar a través del objeto <b>cur</b> e imprimir cada fila."
   ]
  },
  {
   "cell_type": "code",
   "execution_count": 29,
   "metadata": {},
   "outputs": [],
   "source": [
    "for row in cur:\n",
    "    print(row)"
   ]
  },
  {
   "cell_type": "markdown",
   "metadata": {
    "collapsed": true
   },
   "source": [
    "<font size='0.5'>&copy; 2017 Cisco and/or its affiliates. All rights reserved. This document is Cisco Public.<font>"
   ]
  }
 ],
 "metadata": {
  "anaconda-cloud": {},
  "kernelspec": {
   "display_name": "Python 3",
   "language": "python",
   "name": "python3"
  },
  "language_info": {
   "codemirror_mode": {
    "name": "ipython",
    "version": 3
   },
   "file_extension": ".py",
   "mimetype": "text/x-python",
   "name": "python",
   "nbconvert_exporter": "python",
   "pygments_lexer": "ipython3",
   "version": "3.7.3"
  }
 },
 "nbformat": 4,
 "nbformat_minor": 1
}
