<?xml version="1.0" encoding="UTF-8"?>
<!DOCTYPE plist PUBLIC "-//Apple//DTD PLIST 1.0//EN" "http://www.apple.com/DTDs/PropertyList-1.0.dtd">
<plist version="1.0">
<dict>
	<key>URL</key>
	<string>http://192.168.1.35/notebooks/Course%20Materials/2.%20BigData%20and%20Analytics/Ch3/3.1.4.6%20Lab%20-%20Descriptive%20Statistics%20in%20Python.ipynb</string>
</dict>
</plist>
