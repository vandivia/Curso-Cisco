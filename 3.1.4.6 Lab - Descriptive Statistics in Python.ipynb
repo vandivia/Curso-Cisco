{
 "cells": [
  {
   "cell_type": "markdown",
   "metadata": {},
   "source": [
    "![Title](Images/cisco.png)"
   ]
  },
  {
   "cell_type": "markdown",
   "metadata": {},
   "source": [
    "# Lab - estadísticas descriptivas en Python\n"
   ]
  },
  {
   "cell_type": "markdown",
   "metadata": {},
   "source": [
    "### Aspectos básicos\n",
    "\n",
    "En esta práctica de laboratorio, importará un conjunto de datos en una trama de pandas y generará estadísticas descriptivas de los datos. Formateará cadenas de texto para informar las estadísticas descriptivas y generará un diagrama de los datos. Por último, experimentará con los parámetros del gráfico para familiarizarse con la diagramación de datos mediante la biblioteca matplotlib.pyplot."
   ]
  },
  {
   "cell_type": "markdown",
   "metadata": {},
   "source": [
    "## Part 1: Análisis de los datos"
   ]
  },
  {
   "cell_type": "markdown",
   "metadata": {},
   "source": [
    "#### Step 1: configure el entorno e importe los datos"
   ]
  },
  {
   "cell_type": "code",
   "execution_count": 3,
   "metadata": {},
   "outputs": [],
   "source": [
    "import pandas as pd\n",
    "import matplotlib.pyplot as plt\n",
    "\n",
    "# permite incorporar las gráficas al documento, sin abrir nueva ventana\n",
    "%matplotlib inline"
   ]
  },
  {
   "cell_type": "markdown",
   "metadata": {},
   "source": [
    "b) Importamos los datos del archivo `rpi_describe.csv`"
   ]
  },
  {
   "cell_type": "code",
   "execution_count": 4,
   "metadata": {},
   "outputs": [],
   "source": [
    "data = pd.read_csv ('rpi_data_processed.csv')"
   ]
  },
  {
   "cell_type": "markdown",
   "metadata": {},
   "source": [
    "c) Verifique que el archivo se ha importado correctamente."
   ]
  },
  {
   "cell_type": "code",
   "execution_count": 5,
   "metadata": {},
   "outputs": [
    {
     "data": {
      "text/html": [
       "<div>\n",
       "<style scoped>\n",
       "    .dataframe tbody tr th:only-of-type {\n",
       "        vertical-align: middle;\n",
       "    }\n",
       "\n",
       "    .dataframe tbody tr th {\n",
       "        vertical-align: top;\n",
       "    }\n",
       "\n",
       "    .dataframe thead th {\n",
       "        text-align: right;\n",
       "    }\n",
       "</style>\n",
       "<table border=\"1\" class=\"dataframe\">\n",
       "  <thead>\n",
       "    <tr style=\"text-align: right;\">\n",
       "      <th></th>\n",
       "      <th>Date</th>\n",
       "      <th>Time</th>\n",
       "      <th>Ping (ms)</th>\n",
       "      <th>Download (Mbit/s)</th>\n",
       "      <th>Upload (Mbit/s)</th>\n",
       "    </tr>\n",
       "  </thead>\n",
       "  <tbody>\n",
       "    <tr>\n",
       "      <th>0</th>\n",
       "      <td>2016-11-24</td>\n",
       "      <td>13:36:25</td>\n",
       "      <td>26.992</td>\n",
       "      <td>91.80</td>\n",
       "      <td>14.31</td>\n",
       "    </tr>\n",
       "    <tr>\n",
       "      <th>1</th>\n",
       "      <td>2016-11-24</td>\n",
       "      <td>13:36:55</td>\n",
       "      <td>24.532</td>\n",
       "      <td>88.19</td>\n",
       "      <td>14.12</td>\n",
       "    </tr>\n",
       "    <tr>\n",
       "      <th>2</th>\n",
       "      <td>2016-11-24</td>\n",
       "      <td>13:37:25</td>\n",
       "      <td>20.225</td>\n",
       "      <td>59.86</td>\n",
       "      <td>14.11</td>\n",
       "    </tr>\n",
       "    <tr>\n",
       "      <th>3</th>\n",
       "      <td>2016-11-24</td>\n",
       "      <td>13:37:57</td>\n",
       "      <td>19.332</td>\n",
       "      <td>91.81</td>\n",
       "      <td>14.22</td>\n",
       "    </tr>\n",
       "    <tr>\n",
       "      <th>4</th>\n",
       "      <td>2016-11-24</td>\n",
       "      <td>13:38:27</td>\n",
       "      <td>22.494</td>\n",
       "      <td>92.05</td>\n",
       "      <td>14.08</td>\n",
       "    </tr>\n",
       "  </tbody>\n",
       "</table>\n",
       "</div>"
      ],
      "text/plain": [
       "         Date      Time  Ping (ms)  Download (Mbit/s)  Upload (Mbit/s)\n",
       "0  2016-11-24  13:36:25     26.992              91.80            14.31\n",
       "1  2016-11-24  13:36:55     24.532              88.19            14.12\n",
       "2  2016-11-24  13:37:25     20.225              59.86            14.11\n",
       "3  2016-11-24  13:37:57     19.332              91.81            14.22\n",
       "4  2016-11-24  13:38:27     22.494              92.05            14.08"
      ]
     },
     "execution_count": 5,
     "metadata": {},
     "output_type": "execute_result"
    }
   ],
   "source": [
    "data.head() #verificamos las 5 primeras filas"
   ]
  },
  {
   "cell_type": "code",
   "execution_count": 6,
   "metadata": {},
   "outputs": [
    {
     "data": {
      "text/html": [
       "<div>\n",
       "<style scoped>\n",
       "    .dataframe tbody tr th:only-of-type {\n",
       "        vertical-align: middle;\n",
       "    }\n",
       "\n",
       "    .dataframe tbody tr th {\n",
       "        vertical-align: top;\n",
       "    }\n",
       "\n",
       "    .dataframe thead th {\n",
       "        text-align: right;\n",
       "    }\n",
       "</style>\n",
       "<table border=\"1\" class=\"dataframe\">\n",
       "  <thead>\n",
       "    <tr style=\"text-align: right;\">\n",
       "      <th></th>\n",
       "      <th>Date</th>\n",
       "      <th>Time</th>\n",
       "      <th>Ping (ms)</th>\n",
       "      <th>Download (Mbit/s)</th>\n",
       "      <th>Upload (Mbit/s)</th>\n",
       "    </tr>\n",
       "  </thead>\n",
       "  <tbody>\n",
       "    <tr>\n",
       "      <th>668</th>\n",
       "      <td>2016-11-24</td>\n",
       "      <td>19:15:32</td>\n",
       "      <td>20.952</td>\n",
       "      <td>88.67</td>\n",
       "      <td>14.35</td>\n",
       "    </tr>\n",
       "    <tr>\n",
       "      <th>669</th>\n",
       "      <td>2016-11-24</td>\n",
       "      <td>19:16:04</td>\n",
       "      <td>19.397</td>\n",
       "      <td>84.86</td>\n",
       "      <td>14.35</td>\n",
       "    </tr>\n",
       "    <tr>\n",
       "      <th>670</th>\n",
       "      <td>2016-11-24</td>\n",
       "      <td>19:16:34</td>\n",
       "      <td>20.117</td>\n",
       "      <td>84.99</td>\n",
       "      <td>14.33</td>\n",
       "    </tr>\n",
       "    <tr>\n",
       "      <th>671</th>\n",
       "      <td>2016-11-24</td>\n",
       "      <td>19:17:04</td>\n",
       "      <td>17.995</td>\n",
       "      <td>86.21</td>\n",
       "      <td>6.88</td>\n",
       "    </tr>\n",
       "    <tr>\n",
       "      <th>672</th>\n",
       "      <td>2016-11-24</td>\n",
       "      <td>19:18:16</td>\n",
       "      <td>22.175</td>\n",
       "      <td>85.69</td>\n",
       "      <td>14.23</td>\n",
       "    </tr>\n",
       "  </tbody>\n",
       "</table>\n",
       "</div>"
      ],
      "text/plain": [
       "           Date      Time  Ping (ms)  Download (Mbit/s)  Upload (Mbit/s)\n",
       "668  2016-11-24  19:15:32     20.952              88.67            14.35\n",
       "669  2016-11-24  19:16:04     19.397              84.86            14.35\n",
       "670  2016-11-24  19:16:34     20.117              84.99            14.33\n",
       "671  2016-11-24  19:17:04     17.995              86.21             6.88\n",
       "672  2016-11-24  19:18:16     22.175              85.69            14.23"
      ]
     },
     "execution_count": 6,
     "metadata": {},
     "output_type": "execute_result"
    }
   ],
   "source": [
    "data.tail(5) #verificamos las 5 últimas filas"
   ]
  },
  {
   "cell_type": "markdown",
   "metadata": {},
   "source": [
    "#### Step 2: Utilizamos pandas para visualizar la tabla de estadísticas descriptivas para el archivo."
   ]
  },
  {
   "cell_type": "markdown",
   "metadata": {},
   "source": [
    "a) El método `dataframe.describe()` muestra estadísticas básicas."
   ]
  },
  {
   "cell_type": "code",
   "execution_count": 7,
   "metadata": {},
   "outputs": [
    {
     "data": {
      "text/html": [
       "<div>\n",
       "<style scoped>\n",
       "    .dataframe tbody tr th:only-of-type {\n",
       "        vertical-align: middle;\n",
       "    }\n",
       "\n",
       "    .dataframe tbody tr th {\n",
       "        vertical-align: top;\n",
       "    }\n",
       "\n",
       "    .dataframe thead th {\n",
       "        text-align: right;\n",
       "    }\n",
       "</style>\n",
       "<table border=\"1\" class=\"dataframe\">\n",
       "  <thead>\n",
       "    <tr style=\"text-align: right;\">\n",
       "      <th></th>\n",
       "      <th>Ping (ms)</th>\n",
       "      <th>Download (Mbit/s)</th>\n",
       "      <th>Upload (Mbit/s)</th>\n",
       "    </tr>\n",
       "  </thead>\n",
       "  <tbody>\n",
       "    <tr>\n",
       "      <th>count</th>\n",
       "      <td>673.000000</td>\n",
       "      <td>673.000000</td>\n",
       "      <td>673.000000</td>\n",
       "    </tr>\n",
       "    <tr>\n",
       "      <th>mean</th>\n",
       "      <td>21.115452</td>\n",
       "      <td>90.449212</td>\n",
       "      <td>13.697608</td>\n",
       "    </tr>\n",
       "    <tr>\n",
       "      <th>std</th>\n",
       "      <td>5.161225</td>\n",
       "      <td>3.465647</td>\n",
       "      <td>1.080471</td>\n",
       "    </tr>\n",
       "    <tr>\n",
       "      <th>min</th>\n",
       "      <td>16.167000</td>\n",
       "      <td>58.480000</td>\n",
       "      <td>6.210000</td>\n",
       "    </tr>\n",
       "    <tr>\n",
       "      <th>25%</th>\n",
       "      <td>19.115000</td>\n",
       "      <td>90.220000</td>\n",
       "      <td>13.640000</td>\n",
       "    </tr>\n",
       "    <tr>\n",
       "      <th>50%</th>\n",
       "      <td>20.322000</td>\n",
       "      <td>91.560000</td>\n",
       "      <td>13.980000</td>\n",
       "    </tr>\n",
       "    <tr>\n",
       "      <th>75%</th>\n",
       "      <td>21.843000</td>\n",
       "      <td>92.070000</td>\n",
       "      <td>14.180000</td>\n",
       "    </tr>\n",
       "    <tr>\n",
       "      <th>max</th>\n",
       "      <td>76.528000</td>\n",
       "      <td>92.870000</td>\n",
       "      <td>14.550000</td>\n",
       "    </tr>\n",
       "  </tbody>\n",
       "</table>\n",
       "</div>"
      ],
      "text/plain": [
       "        Ping (ms)  Download (Mbit/s)  Upload (Mbit/s)\n",
       "count  673.000000         673.000000       673.000000\n",
       "mean    21.115452          90.449212        13.697608\n",
       "std      5.161225           3.465647         1.080471\n",
       "min     16.167000          58.480000         6.210000\n",
       "25%     19.115000          90.220000        13.640000\n",
       "50%     20.322000          91.560000        13.980000\n",
       "75%     21.843000          92.070000        14.180000\n",
       "max     76.528000          92.870000        14.550000"
      ]
     },
     "execution_count": 7,
     "metadata": {},
     "output_type": "execute_result"
    }
   ],
   "source": [
    "data.describe()"
   ]
  },
  {
   "cell_type": "markdown",
   "metadata": {},
   "source": [
    "b) Para trabajar con los valores redondeados de los pesos en el conjunto de datos, puede agregar una nueva columna a los valores redondeados.\n",
    "En pandas, se accede a las columnas por sus encabezados. Para crear una nueva columna, se utiliza el nombre de la nueva columna, entre comillas, entre corchetes como índice para el marco de datos. \n",
    "El método `round()` se utiliza para redondear los valores en la columna peso y completar una nueva columna con los valores redondeados."
   ]
  },
  {
   "cell_type": "code",
   "execution_count": 23,
   "metadata": {},
   "outputs": [
    {
     "data": {
      "text/html": [
       "<div>\n",
       "<style scoped>\n",
       "    .dataframe tbody tr th:only-of-type {\n",
       "        vertical-align: middle;\n",
       "    }\n",
       "\n",
       "    .dataframe tbody tr th {\n",
       "        vertical-align: top;\n",
       "    }\n",
       "\n",
       "    .dataframe thead th {\n",
       "        text-align: right;\n",
       "    }\n",
       "</style>\n",
       "<table border=\"1\" class=\"dataframe\">\n",
       "  <thead>\n",
       "    <tr style=\"text-align: right;\">\n",
       "      <th></th>\n",
       "      <th>Date</th>\n",
       "      <th>Time</th>\n",
       "      <th>Ping (ms)</th>\n",
       "      <th>Download (Mbit/s)</th>\n",
       "      <th>Upload (Mbit/s)</th>\n",
       "      <th>rounded</th>\n",
       "    </tr>\n",
       "  </thead>\n",
       "  <tbody>\n",
       "    <tr>\n",
       "      <th>0</th>\n",
       "      <td>2016-11-24</td>\n",
       "      <td>13:36:25</td>\n",
       "      <td>26.99</td>\n",
       "      <td>91.80</td>\n",
       "      <td>14.31</td>\n",
       "      <td>26.99</td>\n",
       "    </tr>\n",
       "    <tr>\n",
       "      <th>1</th>\n",
       "      <td>2016-11-24</td>\n",
       "      <td>13:36:55</td>\n",
       "      <td>24.53</td>\n",
       "      <td>88.19</td>\n",
       "      <td>14.12</td>\n",
       "      <td>24.53</td>\n",
       "    </tr>\n",
       "    <tr>\n",
       "      <th>2</th>\n",
       "      <td>2016-11-24</td>\n",
       "      <td>13:37:25</td>\n",
       "      <td>20.23</td>\n",
       "      <td>59.86</td>\n",
       "      <td>14.11</td>\n",
       "      <td>20.23</td>\n",
       "    </tr>\n",
       "    <tr>\n",
       "      <th>3</th>\n",
       "      <td>2016-11-24</td>\n",
       "      <td>13:37:57</td>\n",
       "      <td>19.33</td>\n",
       "      <td>91.81</td>\n",
       "      <td>14.22</td>\n",
       "      <td>19.33</td>\n",
       "    </tr>\n",
       "    <tr>\n",
       "      <th>4</th>\n",
       "      <td>2016-11-24</td>\n",
       "      <td>13:38:27</td>\n",
       "      <td>22.49</td>\n",
       "      <td>92.05</td>\n",
       "      <td>14.08</td>\n",
       "      <td>22.49</td>\n",
       "    </tr>\n",
       "  </tbody>\n",
       "</table>\n",
       "</div>"
      ],
      "text/plain": [
       "         Date      Time  Ping (ms)  Download (Mbit/s)  Upload (Mbit/s)  \\\n",
       "0  2016-11-24  13:36:25      26.99              91.80            14.31   \n",
       "1  2016-11-24  13:36:55      24.53              88.19            14.12   \n",
       "2  2016-11-24  13:37:25      20.23              59.86            14.11   \n",
       "3  2016-11-24  13:37:57      19.33              91.81            14.22   \n",
       "4  2016-11-24  13:38:27      22.49              92.05            14.08   \n",
       "\n",
       "   rounded  \n",
       "0    26.99  \n",
       "1    24.53  \n",
       "2    20.23  \n",
       "3    19.33  \n",
       "4    22.49  "
      ]
     },
     "execution_count": 23,
     "metadata": {},
     "output_type": "execute_result"
    }
   ],
   "source": [
    "# Añadir nueva columna al dataframe donde redondear columna Ping\n",
    "data['rounded'] = data['Ping (ms)'].round(2)\n",
    "\n",
    "# Verify that values were added.\n",
    "data.head()"
   ]
  },
  {
   "cell_type": "markdown",
   "metadata": {},
   "source": [
    "c) También es posible completar una columna con valores calculados. \n",
    "\n",
    "<pre><code>dataframe['c'] = dataframe['a'] - dataframe['b']</code></pre>"
   ]
  },
  {
   "cell_type": "code",
   "execution_count": 25,
   "metadata": {},
   "outputs": [
    {
     "data": {
      "text/html": [
       "<div>\n",
       "<style scoped>\n",
       "    .dataframe tbody tr th:only-of-type {\n",
       "        vertical-align: middle;\n",
       "    }\n",
       "\n",
       "    .dataframe tbody tr th {\n",
       "        vertical-align: top;\n",
       "    }\n",
       "\n",
       "    .dataframe thead th {\n",
       "        text-align: right;\n",
       "    }\n",
       "</style>\n",
       "<table border=\"1\" class=\"dataframe\">\n",
       "  <thead>\n",
       "    <tr style=\"text-align: right;\">\n",
       "      <th></th>\n",
       "      <th>Date</th>\n",
       "      <th>Time</th>\n",
       "      <th>Ping (ms)</th>\n",
       "      <th>Download (Mbit/s)</th>\n",
       "      <th>Upload (Mbit/s)</th>\n",
       "      <th>rounded</th>\n",
       "      <th>diff</th>\n",
       "    </tr>\n",
       "  </thead>\n",
       "  <tbody>\n",
       "    <tr>\n",
       "      <th>0</th>\n",
       "      <td>2016-11-24</td>\n",
       "      <td>13:36:25</td>\n",
       "      <td>26.99</td>\n",
       "      <td>91.80</td>\n",
       "      <td>14.31</td>\n",
       "      <td>26.99</td>\n",
       "      <td>6.99</td>\n",
       "    </tr>\n",
       "    <tr>\n",
       "      <th>1</th>\n",
       "      <td>2016-11-24</td>\n",
       "      <td>13:36:55</td>\n",
       "      <td>24.53</td>\n",
       "      <td>88.19</td>\n",
       "      <td>14.12</td>\n",
       "      <td>24.53</td>\n",
       "      <td>4.53</td>\n",
       "    </tr>\n",
       "    <tr>\n",
       "      <th>2</th>\n",
       "      <td>2016-11-24</td>\n",
       "      <td>13:37:25</td>\n",
       "      <td>20.23</td>\n",
       "      <td>59.86</td>\n",
       "      <td>14.11</td>\n",
       "      <td>20.23</td>\n",
       "      <td>0.23</td>\n",
       "    </tr>\n",
       "    <tr>\n",
       "      <th>3</th>\n",
       "      <td>2016-11-24</td>\n",
       "      <td>13:37:57</td>\n",
       "      <td>19.33</td>\n",
       "      <td>91.81</td>\n",
       "      <td>14.22</td>\n",
       "      <td>19.33</td>\n",
       "      <td>-0.67</td>\n",
       "    </tr>\n",
       "    <tr>\n",
       "      <th>4</th>\n",
       "      <td>2016-11-24</td>\n",
       "      <td>13:38:27</td>\n",
       "      <td>22.49</td>\n",
       "      <td>92.05</td>\n",
       "      <td>14.08</td>\n",
       "      <td>22.49</td>\n",
       "      <td>2.49</td>\n",
       "    </tr>\n",
       "  </tbody>\n",
       "</table>\n",
       "</div>"
      ],
      "text/plain": [
       "         Date      Time  Ping (ms)  Download (Mbit/s)  Upload (Mbit/s)  \\\n",
       "0  2016-11-24  13:36:25      26.99              91.80            14.31   \n",
       "1  2016-11-24  13:36:55      24.53              88.19            14.12   \n",
       "2  2016-11-24  13:37:25      20.23              59.86            14.11   \n",
       "3  2016-11-24  13:37:57      19.33              91.81            14.22   \n",
       "4  2016-11-24  13:38:27      22.49              92.05            14.08   \n",
       "\n",
       "   rounded  diff  \n",
       "0    26.99  6.99  \n",
       "1    24.53  4.53  \n",
       "2    20.23  0.23  \n",
       "3    19.33 -0.67  \n",
       "4    22.49  2.49  "
      ]
     },
     "execution_count": 25,
     "metadata": {},
     "output_type": "execute_result"
    }
   ],
   "source": [
    "# Create the new column named \"diff\" and fill it with values por encima o debajo de valor objetivo de 20 onzas.\n",
    "data['diff'] = data['Ping (ms)'] - 20\n",
    "\n",
    "# Check the result.\n",
    "data.head()"
   ]
  },
  {
   "cell_type": "markdown",
   "metadata": {},
   "source": [
    "#### Step 3: Visualizar las estadísticas descriptivas en texto"
   ]
  },
  {
   "cell_type": "markdown",
   "metadata": {},
   "source": [
    "a) Utilice los valores de la columna redondeada del dataFrame para crear una variable para cada estadística, calcule el rango de valores mediante min() y max() para calcular el rango de valores."
   ]
  },
  {
   "cell_type": "code",
   "execution_count": 81,
   "metadata": {},
   "outputs": [],
   "source": [
    "count = data.rounded.count()\n",
    "mean = data.rounded.mean()\n",
    "std = data.rounded.std()\n",
    "max = data.rounded.max()\n",
    "min = data.rounded.min()\n",
    "rng = max-min"
   ]
  },
  {
   "cell_type": "code",
   "execution_count": 58,
   "metadata": {},
   "outputs": [
    {
     "data": {
      "text/plain": [
       "count    673.000000\n",
       "mean      21.115542\n",
       "std        5.161198\n",
       "min       16.170000\n",
       "25%       19.110000\n",
       "50%       20.320000\n",
       "75%       21.840000\n",
       "max       76.530000\n",
       "Name: rounded, dtype: float64"
      ]
     },
     "execution_count": 58,
     "metadata": {},
     "output_type": "execute_result"
    }
   ],
   "source": [
    "data.rounded.describe()"
   ]
  },
  {
   "cell_type": "markdown",
   "metadata": {},
   "source": [
    "b) Para desarrollar cadenas que utilicen texto y variables para informar sobre las estadísticas del conjunto de datos, utilice el método de cadena `format()` para facilitar la inserción de los valores de las variables en las cadenas. El formateo utiliza marcadores `{}` para indicar dónde deben insertarse los valores de las variables.\n",
    "\n",
    "Desarrolle oraciones como “La media de la distribución es…” para cada variable creada. En la última oración, incluya `min()`, `max()` y los valores de rango en las mismas oraciones para practicar el uso de varios marcadores."
   ]
  },
  {
   "cell_type": "code",
   "execution_count": 82,
   "metadata": {},
   "outputs": [
    {
     "name": "stdout",
     "output_type": "stream",
     "text": [
      "El número de valores en la serie es 673\n",
      "la media de la distribución es 21.12\n",
      "The standard deviation of the distribution is 5.16.\n",
      "El rango del dataframe es 60.36\n"
     ]
    }
   ],
   "source": [
    "countstring = 'El número de valores en la serie es {}'.format(count)\n",
    "print(countstring)\n",
    "\n",
    "meanstring ='la media de la distribución es {:.2f}'.format(mean)\n",
    "print(meanstring)\n",
    "\n",
    "stdstring = 'The standard deviation of the distribution is {:.2f}.'.format(std)\n",
    "print(stdstring)\n",
    "\n",
    "rangestring ='El rango del dataframe es {}'.format(rng)\n",
    "print (rangestring)"
   ]
  },
  {
   "cell_type": "markdown",
   "metadata": {},
   "source": [
    "## Part 2: Visualización de los datos"
   ]
  },
  {
   "cell_type": "markdown",
   "metadata": {},
   "source": [
    "#### Step 1: Cree un dataframe que contenga los conteos de frecuencia para el dataset.\n",
    "\n",
    "a) Cree un nuevo dataframe usando el método `value_counts()` en la columna rounded, que crea un objeto de serie.  Utilizará `to_frame()` con los métodos `reset_index()` para crear un marco de datos de pandas a partir del objeto de serie.\n",
    "\n",
    "Example\n",
    "\n",
    "<pre><code>variable = dataframe['columnName'].value_counts()</code></pre>"
   ]
  },
  {
   "cell_type": "code",
   "execution_count": 83,
   "metadata": {},
   "outputs": [],
   "source": [
    "# Create a variable called 'freq' to hold the weight values and their frequencies\n",
    "freq = data['rounded'].value_counts()\n",
    "\n",
    "# Convert the freq object to a data frame. Use to_frame().\n",
    "freq = freq.to_frame().reset_index()\n"
   ]
  },
  {
   "cell_type": "markdown",
   "metadata": {},
   "source": [
    "b) Use la función `type()` con el nombre de la variable como argumento para verificar que `freq` no sea un objeto del dataframe."
   ]
  },
  {
   "cell_type": "code",
   "execution_count": 84,
   "metadata": {},
   "outputs": [
    {
     "data": {
      "text/plain": [
       "pandas.core.frame.DataFrame"
      ]
     },
     "execution_count": 84,
     "metadata": {},
     "output_type": "execute_result"
    }
   ],
   "source": [
    "# Verify the type of the freq object.\n",
    "type(freq)"
   ]
  },
  {
   "cell_type": "markdown",
   "metadata": {},
   "source": [
    "c) Use `head` para ver el new dataframe. Las columnas del marco de datos no tienen un nombre claro. Cámbieles el nombre a \"value\" y \"freq\" mediante el atributo de las columnas del dataframe.\n",
    "<pre><code>dataframe.columns = ['column1','column2']</code></pre>"
   ]
  },
  {
   "cell_type": "code",
   "execution_count": 87,
   "metadata": {},
   "outputs": [
    {
     "data": {
      "text/html": [
       "<div>\n",
       "<style scoped>\n",
       "    .dataframe tbody tr th:only-of-type {\n",
       "        vertical-align: middle;\n",
       "    }\n",
       "\n",
       "    .dataframe tbody tr th {\n",
       "        vertical-align: top;\n",
       "    }\n",
       "\n",
       "    .dataframe thead th {\n",
       "        text-align: right;\n",
       "    }\n",
       "</style>\n",
       "<table border=\"1\" class=\"dataframe\">\n",
       "  <thead>\n",
       "    <tr style=\"text-align: right;\">\n",
       "      <th></th>\n",
       "      <th>value</th>\n",
       "      <th>freq</th>\n",
       "    </tr>\n",
       "  </thead>\n",
       "  <tbody>\n",
       "    <tr>\n",
       "      <th>0</th>\n",
       "      <td>19.76</td>\n",
       "      <td>6</td>\n",
       "    </tr>\n",
       "    <tr>\n",
       "      <th>1</th>\n",
       "      <td>20.12</td>\n",
       "      <td>4</td>\n",
       "    </tr>\n",
       "    <tr>\n",
       "      <th>2</th>\n",
       "      <td>18.76</td>\n",
       "      <td>4</td>\n",
       "    </tr>\n",
       "    <tr>\n",
       "      <th>3</th>\n",
       "      <td>19.11</td>\n",
       "      <td>4</td>\n",
       "    </tr>\n",
       "    <tr>\n",
       "      <th>4</th>\n",
       "      <td>18.90</td>\n",
       "      <td>4</td>\n",
       "    </tr>\n",
       "  </tbody>\n",
       "</table>\n",
       "</div>"
      ],
      "text/plain": [
       "   value  freq\n",
       "0  19.76     6\n",
       "1  20.12     4\n",
       "2  18.76     4\n",
       "3  19.11     4\n",
       "4  18.90     4"
      ]
     },
     "execution_count": 87,
     "metadata": {},
     "output_type": "execute_result"
    }
   ],
   "source": [
    "# Rename the columns in the dataframe. \n",
    "freq.columns = ['value', 'freq']\n",
    "\n",
    "# Verify the result.\n",
    "freq.head()"
   ]
  },
  {
   "cell_type": "markdown",
   "metadata": {},
   "source": [
    "#### Step 2: Gráfico de la distribución de frecuencia.\n",
    "\n",
    "a) Los métodos del módulo `matplotlib.pyplot` se utilizan para formatear y mostrar un diagrama de dispersión de los datos de frecuencia."
   ]
  },
  {
   "cell_type": "code",
   "execution_count": 88,
   "metadata": {},
   "outputs": [
    {
     "data": {
      "text/plain": [
       "[<matplotlib.lines.Line2D at 0x6b6a1350>]"
      ]
     },
     "execution_count": 88,
     "metadata": {},
     "output_type": "execute_result"
    },
    {
     "data": {
      "image/png": "[encoded data removed]",
      "text/plain": [
       "<Figure size 1440x720 with 1 Axes>"
      ]
     },
     "metadata": {
      "needs_background": "light"
     },
     "output_type": "display_data"
    }
   ],
   "source": [
    "# Set a size for the graph\n",
    "plt.figure(figsize=(20,10))\n",
    "\n",
    "# Add axis labels\n",
    "plt.ylabel('Frequency')\n",
    "plt.xlabel('Weight')\n",
    "\n",
    "# Plot the graph using a round symbol \"o\" of size 10\n",
    "plt.plot(freq.value,freq.freq, \"o\", markersize = 10, color = 'g')"
   ]
  },
  {
   "cell_type": "markdown",
   "metadata": {
    "collapsed": true
   },
   "source": [
    "<font size='0.5'>&copy; 2017 Cisco and/or its affiliates. All rights reserved. This document is Cisco Public.<font>"
   ]
  }
 ],
 "metadata": {
  "anaconda-cloud": {},
  "kernelspec": {
   "display_name": "Python 3",
   "language": "python",
   "name": "python3"
  },
  "language_info": {
   "codemirror_mode": {
    "name": "ipython",
    "version": 3
   },
   "file_extension": ".py",
   "mimetype": "text/x-python",
   "name": "python",
   "nbconvert_exporter": "python",
   "pygments_lexer": "ipython3",
   "version": "3.7.3"
  }
 },
 "nbformat": 4,
 "nbformat_minor": 1
}
