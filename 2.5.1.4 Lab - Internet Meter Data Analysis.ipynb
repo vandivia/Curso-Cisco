{
 "cells": [
  {
   "cell_type": "markdown",
   "metadata": {},
   "source": [
    "# Lab - Análisis de datos del contador de Internet "
   ]
  },
  {
   "cell_type": "markdown",
   "metadata": {},
   "source": [
    "## Part 1: Collect and Store Data\n",
    "<p>The goal of this first part of the lab is to gather internet speed measurements through the Raspberry Pi. Three kinds of measurements will be collected:\n",
    "1. Ping speed\n",
    "2. Download speed\n",
    "3. Upload speed"
   ]
  },
  {
   "cell_type": "markdown",
   "metadata": {},
   "source": [
    "#### Step 1: Install Speedtest and Import Python Libraries.\n",
    "In this step, you will install Speedtest and import Python libraries.\n",
    "<p>Speedtest-cli is a Python script that measures the upload and download speed of your Internet connection. For more information about speedtest, go to https://github.com/sivel/speedtest-cli."
   ]
  },
  {
   "cell_type": "markdown",
   "metadata": {},
   "source": [
    "a) Install `speedtest-cli`."
   ]
  },
  {
   "cell_type": "code",
   "execution_count": 47,
   "metadata": {},
   "outputs": [
    {
     "name": "stdout",
     "output_type": "stream",
     "text": [
      "Looking in indexes: https://pypi.org/simple, https://www.piwheels.org/simple\r\n",
      "Requirement already satisfied: speedtest-cli in /srv/pl-app/lib/python3.7/site-packages (2.1.1)\r\n"
     ]
    }
   ],
   "source": [
    "!pip install speedtest-cli"
   ]
  },
  {
   "cell_type": "markdown",
   "metadata": {},
   "source": [
    "This cli allows the Jupyter notebook to connect to the website and store the data."
   ]
  },
  {
   "cell_type": "markdown",
   "metadata": {},
   "source": [
    "b) Import the necessary Python libraries."
   ]
  },
  {
   "cell_type": "code",
   "execution_count": 48,
   "metadata": {},
   "outputs": [],
   "source": [
    "# Python library to manage date and time data\n",
    "import datetime\n",
    "# Python library to read and write csv files\n",
    "import csv\n",
    "# Python library to execute bash commands from the notebook.\n",
    "import subprocess"
   ]
  },
  {
   "cell_type": "markdown",
   "metadata": {},
   "source": [
    "#### Step 2: Generate timestamps using the `datetime` package.\n",
    "In this lab, measurements of Internet speed statistics will be generated. A crucial step in data acquisition for the majority of data analytics applications, is to associate a timestamp to measurements. "
   ]
  },
  {
   "cell_type": "markdown",
   "metadata": {},
   "source": [
    "a) To generate a timestamp, use the `datetime.now` function of the `datetime` package: "
   ]
  },
  {
   "cell_type": "code",
   "execution_count": 49,
   "metadata": {},
   "outputs": [
    {
     "name": "stdout",
     "output_type": "stream",
     "text": [
      "2019-12-17 11:46:51.715212 <class 'datetime.datetime'>\n"
     ]
    }
   ],
   "source": [
    "date_time = datetime.datetime.now()\n",
    "print(date_time, type(date_time))"
   ]
  },
  {
   "cell_type": "markdown",
   "metadata": {},
   "source": [
    "b) An instance of the class `datetime` cannot be directly written to in text form. The function `strftime` parses the date information into a string. The arguments of this function determine the format of the output sting."
   ]
  },
  {
   "cell_type": "code",
   "execution_count": 50,
   "metadata": {},
   "outputs": [
    {
     "data": {
      "text/plain": [
       "'Tue, 17 Dec 2019 11:46:51'"
      ]
     },
     "execution_count": 50,
     "metadata": {},
     "output_type": "execute_result"
    }
   ],
   "source": [
    "date_time.strftime('%a, %d %b %Y %H:%M:%S')"
   ]
  },
  {
   "cell_type": "markdown",
   "metadata": {},
   "source": [
    "Generate a timestamp and parse it into a string with the following format: YYYY-MM-DD HH:MM:SS."
   ]
  },
  {
   "cell_type": "code",
   "execution_count": 51,
   "metadata": {},
   "outputs": [
    {
     "data": {
      "text/plain": [
       "'2019-Dec-17 11:46:51'"
      ]
     },
     "execution_count": 51,
     "metadata": {},
     "output_type": "execute_result"
    }
   ],
   "source": [
    "date_time.strftime(\"%Y-%b-%d %H:%M:%S\")"
   ]
  },
  {
   "cell_type": "markdown",
   "metadata": {},
   "source": [
    "#### Step 3: Run the process and collect the output with Python.\n",
    "\n",
    "The `speedtest-cli` command, if run from a terminal, returns a string with download and upload speeds. To run the command from this notebook, it is necessary to use the Python module `subprocess`, which allows running a process directly from the notebook code cell. "
   ]
  },
  {
   "cell_type": "markdown",
   "metadata": {},
   "source": [
    "a) Run a speed test using the `speedtest-cli` command from Python. The output will be stored in the process_output variable."
   ]
  },
  {
   "cell_type": "code",
   "execution_count": 52,
   "metadata": {},
   "outputs": [],
   "source": [
    "# This string contains the command line to interface with speedtest.net\n",
    "speedtest_cmd = \"speedtest-cli --simple\"\n",
    "# Execute the process\n",
    "process = subprocess.Popen(speedtest_cmd.split(), stdout=subprocess.PIPE)\n",
    "# Collect the command output\n",
    "process_output = process.communicate()[0]"
   ]
  },
  {
   "cell_type": "markdown",
   "metadata": {},
   "source": [
    "b) Print the process output. Notice the type for the `process_output` variable."
   ]
  },
  {
   "cell_type": "code",
   "execution_count": 53,
   "metadata": {},
   "outputs": [
    {
     "name": "stdout",
     "output_type": "stream",
     "text": [
      "b'Ping: 7.818 ms\\nDownload: 93.40 Mbit/s\\nUpload: 93.73 Mbit/s\\n' <class 'bytes'>\n"
     ]
    }
   ],
   "source": [
    "print(process_output, type(process_output))"
   ]
  },
  {
   "cell_type": "markdown",
   "metadata": {},
   "source": [
    "c) The speed test result is split, and a timestamp is appended to the results."
   ]
  },
  {
   "cell_type": "code",
   "execution_count": 54,
   "metadata": {},
   "outputs": [
    {
     "name": "stdout",
     "output_type": "stream",
     "text": [
      "[b'Ping:', b'7.818', b'ms', b'Download:', b'93.40', b'Mbit/s', b'Upload:', b'93.73', b'Mbit/s', '2019-12-17 11:47:28'] <class 'list'>\n"
     ]
    }
   ],
   "source": [
    "# Store the time at which the speedtest was executed\n",
    "date_time = datetime.datetime.now().strftime(\"%Y-%m-%d %H:%M:%S\")\n",
    "process_output = process_output.split()\n",
    "process_output.append(date_time)\n",
    "print(process_output, type(process_output))"
   ]
  },
  {
   "cell_type": "markdown",
   "metadata": {},
   "source": [
    "d) The speedtest() function is created to return the results from the speedtest-cli command."
   ]
  },
  {
   "cell_type": "code",
   "execution_count": 55,
   "metadata": {},
   "outputs": [],
   "source": [
    "# function to excute the speed test\n",
    "def speedtest():\n",
    "    # We need to store the time at which the speedtest was executed\n",
    "    date_time = datetime.datetime.now().strftime(\"%Y-%m-%d %H:%M:%S\")\n",
    "    # This is a string that contains what we would write on the command line \n",
    "    #to interface with speedtest.net\n",
    "    speedtest_cmd = \"speedtest-cli --simple\"\n",
    "    # We now execute the process: \n",
    "    process = subprocess.Popen(speedtest_cmd.split(), stdout=subprocess.PIPE)\n",
    "    process_output = process.communicate()[0]\n",
    "    process_output = process_output.split()\n",
    "    # and we add the date and time \n",
    "    process_output.append(date_time)\n",
    "    return process_output"
   ]
  },
  {
   "cell_type": "markdown",
   "metadata": {},
   "source": [
    "#### Step 4: Store the output of the `speedtest()` function.\n",
    "\n",
    "The comma separated values (csv) is the most common import and export format for spreadsheets and databases. "
   ]
  },
  {
   "cell_type": "markdown",
   "metadata": {},
   "source": [
    "a) Create a file named test.txt in the /tmp directory and write \"test_msg\" in the file."
   ]
  },
  {
   "cell_type": "code",
   "execution_count": 56,
   "metadata": {},
   "outputs": [],
   "source": [
    "with open(\"/tmp/test.txt\",'w') as f:\n",
    "    f.write('test_msg')"
   ]
  },
  {
   "cell_type": "markdown",
   "metadata": {},
   "source": [
    "b) Use the Linux command `cat` to verify the creation and content of the file."
   ]
  },
  {
   "cell_type": "code",
   "execution_count": 57,
   "metadata": {},
   "outputs": [
    {
     "name": "stdout",
     "output_type": "stream",
     "text": [
      "test_msg"
     ]
    }
   ],
   "source": [
    "!cat /tmp/test.txt"
   ]
  },
  {
   "cell_type": "markdown",
   "metadata": {},
   "source": [
    "c) To check that the file was successfully open:"
   ]
  },
  {
   "cell_type": "code",
   "execution_count": 58,
   "metadata": {},
   "outputs": [
    {
     "name": "stdout",
     "output_type": "stream",
     "text": [
      "test_msg\n"
     ]
    }
   ],
   "source": [
    "with open(\"/tmp/test.txt\",'r') as f:\n",
    "   str = f.read()\n",
    "print(str)"
   ]
  },
  {
   "cell_type": "markdown",
   "metadata": {},
   "source": [
    "To write into a `csv` file, it is necessary to create a `csv.writer` object. "
   ]
  },
  {
   "cell_type": "code",
   "execution_count": 59,
   "metadata": {},
   "outputs": [],
   "source": [
    "# function to save data to csv\n",
    "def save_to_csv(data, filename):\n",
    "    try:\n",
    "        # If the file exists, we want to append a new line to it, with the \n",
    "        #results of the current experiment\n",
    "        with open(filename + '.csv', 'a') as f:\n",
    "            wr = csv.writer(f)\n",
    "            wr.writerow(data)\n",
    "    except:\n",
    "        # If it does not exist, create the file first\n",
    "        with open(filename + '.csv', 'w') as f:\n",
    "            wr = csv.writer(f)\n",
    "            wr.writerow(data)"
   ]
  },
  {
   "cell_type": "markdown",
   "metadata": {},
   "source": [
    "#### Step 5: Check the collected data.\n",
    "Write a function to open a csv file and print its content to screen. "
   ]
  },
  {
   "cell_type": "code",
   "execution_count": 60,
   "metadata": {},
   "outputs": [],
   "source": [
    "def print_from_csv(filename): \n",
    "    with open(filename + '.csv', 'r') as f:\n",
    "            re = csv.reader(f)\n",
    "            for row in re:\n",
    "                print (row)"
   ]
  },
  {
   "cell_type": "markdown",
   "metadata": {},
   "source": [
    "#### Step 6: Run the Speedtest multiple times and store the data.\n",
    "a) Write a `for` loop that calls the speedtest 5 times, prints the output of the tests, and stores the data in a csv file."
   ]
  },
  {
   "cell_type": "code",
   "execution_count": 61,
   "metadata": {},
   "outputs": [
    {
     "name": "stdout",
     "output_type": "stream",
     "text": [
      "Test number 0\n",
      "[b'Ping:', b'7.47', b'ms', b'Download:', b'93.52', b'Mbit/s', b'Upload:', b'93.96', b'Mbit/s', '2019-12-17 11:47:44']\n",
      "Test number 1\n",
      "[b'Ping:', b'8.303', b'ms', b'Download:', b'93.68', b'Mbit/s', b'Upload:', b'93.90', b'Mbit/s', '2019-12-17 11:48:10']\n",
      "Test number 2\n",
      "[b'Ping:', b'7.347', b'ms', b'Download:', b'93.29', b'Mbit/s', b'Upload:', b'94.05', b'Mbit/s', '2019-12-17 11:48:36']\n",
      "Test number 3\n",
      "[b'Ping:', b'7.575', b'ms', b'Download:', b'93.35', b'Mbit/s', b'Upload:', b'93.88', b'Mbit/s', '2019-12-17 11:49:02']\n",
      "Test number 4\n",
      "[b'Ping:', b'7.521', b'ms', b'Download:', b'93.55', b'Mbit/s', b'Upload:', b'93.71', b'Mbit/s', '2019-12-17 11:49:28']\n"
     ]
    }
   ],
   "source": [
    "for i in range(5):\n",
    "    speedtest_output = speedtest()\n",
    "    print('Test number {}'.format(i))\n",
    "    print(speedtest_output)\n",
    "    save_to_csv(speedtest_output, '/tmp/rpi_data_test')"
   ]
  },
  {
   "cell_type": "markdown",
   "metadata": {},
   "source": [
    "b) Display the file to verify that the data has been saved correctly."
   ]
  },
  {
   "cell_type": "code",
   "execution_count": 62,
   "metadata": {},
   "outputs": [
    {
     "name": "stdout",
     "output_type": "stream",
     "text": [
      "[\"b'Ping:'\", \"b'13.23'\", \"b'ms'\", \"b'Download:'\", \"b'93.59'\", \"b'Mbit/s'\", \"b'Upload:'\", \"b'93.90'\", \"b'Mbit/s'\", '2019-12-17 11:35:36']\n",
      "[\"b'Ping:'\", \"b'7.416'\", \"b'ms'\", \"b'Download:'\", \"b'93.42'\", \"b'Mbit/s'\", \"b'Upload:'\", \"b'93.95'\", \"b'Mbit/s'\", '2019-12-17 11:36:03']\n",
      "[\"b'Ping:'\", \"b'7.474'\", \"b'ms'\", \"b'Download:'\", \"b'93.51'\", \"b'Mbit/s'\", \"b'Upload:'\", \"b'93.80'\", \"b'Mbit/s'\", '2019-12-17 11:36:29']\n",
      "[\"b'Ping:'\", \"b'7.457'\", \"b'ms'\", \"b'Download:'\", \"b'93.23'\", \"b'Mbit/s'\", \"b'Upload:'\", \"b'93.99'\", \"b'Mbit/s'\", '2019-12-17 11:36:55']\n",
      "[\"b'Ping:'\", \"b'6.987'\", \"b'ms'\", \"b'Download:'\", \"b'93.55'\", \"b'Mbit/s'\", \"b'Upload:'\", \"b'93.99'\", \"b'Mbit/s'\", '2019-12-17 11:37:21']\n",
      "[\"b'Ping:'\", \"b'7.47'\", \"b'ms'\", \"b'Download:'\", \"b'93.52'\", \"b'Mbit/s'\", \"b'Upload:'\", \"b'93.96'\", \"b'Mbit/s'\", '2019-12-17 11:47:44']\n",
      "[\"b'Ping:'\", \"b'8.303'\", \"b'ms'\", \"b'Download:'\", \"b'93.68'\", \"b'Mbit/s'\", \"b'Upload:'\", \"b'93.90'\", \"b'Mbit/s'\", '2019-12-17 11:48:10']\n",
      "[\"b'Ping:'\", \"b'7.347'\", \"b'ms'\", \"b'Download:'\", \"b'93.29'\", \"b'Mbit/s'\", \"b'Upload:'\", \"b'94.05'\", \"b'Mbit/s'\", '2019-12-17 11:48:36']\n",
      "[\"b'Ping:'\", \"b'7.575'\", \"b'ms'\", \"b'Download:'\", \"b'93.35'\", \"b'Mbit/s'\", \"b'Upload:'\", \"b'93.88'\", \"b'Mbit/s'\", '2019-12-17 11:49:02']\n",
      "[\"b'Ping:'\", \"b'7.521'\", \"b'ms'\", \"b'Download:'\", \"b'93.55'\", \"b'Mbit/s'\", \"b'Upload:'\", \"b'93.71'\", \"b'Mbit/s'\", '2019-12-17 11:49:28']\n"
     ]
    }
   ],
   "source": [
    "print_from_csv('/tmp/rpi_data_test')"
   ]
  },
  {
   "cell_type": "markdown",
   "metadata": {},
   "source": [
    "## Part 2: Manipulate Data"
   ]
  },
  {
   "cell_type": "markdown",
   "metadata": {},
   "source": [
    "The Python library `pandas` is very useful for working with structured data.\n",
    "\n",
    "#### Step 1: Import the Python libraries.\n",
    "\n",
    "Import `pandas` and the other libraries used for the next tasks."
   ]
  },
  {
   "cell_type": "code",
   "execution_count": 65,
   "metadata": {},
   "outputs": [],
   "source": [
    "import datetime\n",
    "import csv\n",
    "import pandas as pd\n",
    "import numpy as np"
   ]
  },
  {
   "cell_type": "markdown",
   "metadata": {},
   "source": [
    "#### Step 2: Load the `csv` file into a `DataFrame` object using `pandas`.\n",
    "\n",
    "A `pandas DataFrame` is a 2-dimensional labeled data structure with columns of potentially different types. You can think of it like a spreadsheet or SQL table. The pandas library function `read_csv` automatically converts a `csv` file into a `DataFrame` object.\n",
    "\n",
    "This function contains a lot of parameters. The only non-optional one is the `filepath`, i.e. the location of the `csv` file. All the other parameters are optional.\n",
    "\n",
    "In this step, you will import and view the content of the csv file, `rpi_data_long.csv`. This csv file is located in the same directory as this Jupyter notebook."
   ]
  },
  {
   "cell_type": "markdown",
   "metadata": {},
   "source": [
    "a) Assign the file `rpi_data_long.csv` to the variable `data_file`."
   ]
  },
  {
   "cell_type": "code",
   "execution_count": 66,
   "metadata": {},
   "outputs": [],
   "source": [
    "data_file = './rpi_data_long.csv'"
   ]
  },
  {
   "cell_type": "markdown",
   "metadata": {},
   "source": [
    "b) Use the Linux command `head` to view the first 10 lines of the csv file."
   ]
  },
  {
   "cell_type": "code",
   "execution_count": 67,
   "metadata": {
    "scrolled": true
   },
   "outputs": [
    {
     "name": "stdout",
     "output_type": "stream",
     "text": [
      "Ping:,26.992,ms,Download:,91.80,Mbit/s,Upload:,14.31,Mbit/s,2016-11-24 13:36:25\r",
      "\r\n",
      "Ping:,24.532,ms,Download:,88.19,Mbit/s,Upload:,14.12,Mbit/s,2016-11-24 13:36:55\r",
      "\r\n",
      "Ping:,20.225,ms,Download:,59.86,Mbit/s,Upload:,14.11,Mbit/s,2016-11-24 13:37:25\r",
      "\r\n",
      "Ping:,19.332,ms,Download:,91.81,Mbit/s,Upload:,14.22,Mbit/s,2016-11-24 13:37:57\r",
      "\r\n",
      "Ping:,22.494,ms,Download:,92.05,Mbit/s,Upload:,14.08,Mbit/s,2016-11-24 13:38:27\r",
      "\r\n"
     ]
    }
   ],
   "source": [
    "!head -n 5 ./rpi_data_long.csv"
   ]
  },
  {
   "cell_type": "markdown",
   "metadata": {},
   "source": [
    "c) Use the `names` parameter of the `read_csv` function to specify the name of the `DataFrame` columns."
   ]
  },
  {
   "cell_type": "code",
   "execution_count": 68,
   "metadata": {},
   "outputs": [],
   "source": [
    "column_names = [ 'Type A', 'Measure A', 'Units A',\n",
    "                 'Type B', 'Measure B', 'Units B',\n",
    "                 'Type C', 'Measure C', 'Units C', \n",
    "                 'Datetime']"
   ]
  },
  {
   "cell_type": "markdown",
   "metadata": {},
   "source": [
    "d) Use the `read_csv` function to read from `data_file` and assign `column_names` as the column names in the dataframe."
   ]
  },
  {
   "cell_type": "code",
   "execution_count": 69,
   "metadata": {},
   "outputs": [],
   "source": [
    "with open(data_file, 'r') as f:\n",
    "   df_redundant = pd.read_csv(f, names = column_names)"
   ]
  },
  {
   "cell_type": "markdown",
   "metadata": {},
   "source": [
    "e) The command `head()` displays the first few rows of the dataframe."
   ]
  },
  {
   "cell_type": "code",
   "execution_count": 70,
   "metadata": {},
   "outputs": [
    {
     "data": {
      "text/html": [
       "<div>\n",
       "<style scoped>\n",
       "    .dataframe tbody tr th:only-of-type {\n",
       "        vertical-align: middle;\n",
       "    }\n",
       "\n",
       "    .dataframe tbody tr th {\n",
       "        vertical-align: top;\n",
       "    }\n",
       "\n",
       "    .dataframe thead th {\n",
       "        text-align: right;\n",
       "    }\n",
       "</style>\n",
       "<table border=\"1\" class=\"dataframe\">\n",
       "  <thead>\n",
       "    <tr style=\"text-align: right;\">\n",
       "      <th></th>\n",
       "      <th>Type A</th>\n",
       "      <th>Measure A</th>\n",
       "      <th>Units A</th>\n",
       "      <th>Type B</th>\n",
       "      <th>Measure B</th>\n",
       "      <th>Units B</th>\n",
       "      <th>Type C</th>\n",
       "      <th>Measure C</th>\n",
       "      <th>Units C</th>\n",
       "      <th>Datetime</th>\n",
       "    </tr>\n",
       "  </thead>\n",
       "  <tbody>\n",
       "    <tr>\n",
       "      <th>0</th>\n",
       "      <td>Ping:</td>\n",
       "      <td>26.992</td>\n",
       "      <td>ms</td>\n",
       "      <td>Download:</td>\n",
       "      <td>91.80</td>\n",
       "      <td>Mbit/s</td>\n",
       "      <td>Upload:</td>\n",
       "      <td>14.31</td>\n",
       "      <td>Mbit/s</td>\n",
       "      <td>2016-11-24 13:36:25</td>\n",
       "    </tr>\n",
       "    <tr>\n",
       "      <th>1</th>\n",
       "      <td>Ping:</td>\n",
       "      <td>24.532</td>\n",
       "      <td>ms</td>\n",
       "      <td>Download:</td>\n",
       "      <td>88.19</td>\n",
       "      <td>Mbit/s</td>\n",
       "      <td>Upload:</td>\n",
       "      <td>14.12</td>\n",
       "      <td>Mbit/s</td>\n",
       "      <td>2016-11-24 13:36:55</td>\n",
       "    </tr>\n",
       "    <tr>\n",
       "      <th>2</th>\n",
       "      <td>Ping:</td>\n",
       "      <td>20.225</td>\n",
       "      <td>ms</td>\n",
       "      <td>Download:</td>\n",
       "      <td>59.86</td>\n",
       "      <td>Mbit/s</td>\n",
       "      <td>Upload:</td>\n",
       "      <td>14.11</td>\n",
       "      <td>Mbit/s</td>\n",
       "      <td>2016-11-24 13:37:25</td>\n",
       "    </tr>\n",
       "    <tr>\n",
       "      <th>3</th>\n",
       "      <td>Ping:</td>\n",
       "      <td>19.332</td>\n",
       "      <td>ms</td>\n",
       "      <td>Download:</td>\n",
       "      <td>91.81</td>\n",
       "      <td>Mbit/s</td>\n",
       "      <td>Upload:</td>\n",
       "      <td>14.22</td>\n",
       "      <td>Mbit/s</td>\n",
       "      <td>2016-11-24 13:37:57</td>\n",
       "    </tr>\n",
       "    <tr>\n",
       "      <th>4</th>\n",
       "      <td>Ping:</td>\n",
       "      <td>22.494</td>\n",
       "      <td>ms</td>\n",
       "      <td>Download:</td>\n",
       "      <td>92.05</td>\n",
       "      <td>Mbit/s</td>\n",
       "      <td>Upload:</td>\n",
       "      <td>14.08</td>\n",
       "      <td>Mbit/s</td>\n",
       "      <td>2016-11-24 13:38:27</td>\n",
       "    </tr>\n",
       "  </tbody>\n",
       "</table>\n",
       "</div>"
      ],
      "text/plain": [
       "  Type A Measure A Units A     Type B Measure B Units B   Type C  Measure C  \\\n",
       "0  Ping:    26.992      ms  Download:     91.80  Mbit/s  Upload:      14.31   \n",
       "1  Ping:    24.532      ms  Download:     88.19  Mbit/s  Upload:      14.12   \n",
       "2  Ping:    20.225      ms  Download:     59.86  Mbit/s  Upload:      14.11   \n",
       "3  Ping:    19.332      ms  Download:     91.81  Mbit/s  Upload:      14.22   \n",
       "4  Ping:    22.494      ms  Download:     92.05  Mbit/s  Upload:      14.08   \n",
       "\n",
       "  Units C             Datetime  \n",
       "0  Mbit/s  2016-11-24 13:36:25  \n",
       "1  Mbit/s  2016-11-24 13:36:55  \n",
       "2  Mbit/s  2016-11-24 13:37:25  \n",
       "3  Mbit/s  2016-11-24 13:37:57  \n",
       "4  Mbit/s  2016-11-24 13:38:27  "
      ]
     },
     "execution_count": 70,
     "metadata": {},
     "output_type": "execute_result"
    }
   ],
   "source": [
    "# You can specify the number of rows you want to print to screen: \n",
    "df_redundant.head()"
   ]
  },
  {
   "cell_type": "markdown",
   "metadata": {},
   "source": [
    "#### Step 3: Create a concise representation.\n",
    "In this step, you will create a more compact representation using a copy of the data frame `df_redundant`."
   ]
  },
  {
   "cell_type": "markdown",
   "metadata": {},
   "source": [
    "a) Copy `df_redundant` into another dataframe called `df_compact` using `copy()`."
   ]
  },
  {
   "cell_type": "code",
   "execution_count": 71,
   "metadata": {},
   "outputs": [],
   "source": [
    "df_compact = df_redundant.copy()"
   ]
  },
  {
   "cell_type": "markdown",
   "metadata": {},
   "source": [
    "b) Rename the columns relative to the measures as shown:\n",
    "\n",
    "    Measure A -> Ping (ms)\n",
    "    Measure B -> Download (Mbit/s)\n",
    "    Measure C -> Upload (Mbit/s)"
   ]
  },
  {
   "cell_type": "code",
   "execution_count": 72,
   "metadata": {
    "scrolled": true
   },
   "outputs": [
    {
     "data": {
      "text/html": [
       "<div>\n",
       "<style scoped>\n",
       "    .dataframe tbody tr th:only-of-type {\n",
       "        vertical-align: middle;\n",
       "    }\n",
       "\n",
       "    .dataframe tbody tr th {\n",
       "        vertical-align: top;\n",
       "    }\n",
       "\n",
       "    .dataframe thead th {\n",
       "        text-align: right;\n",
       "    }\n",
       "</style>\n",
       "<table border=\"1\" class=\"dataframe\">\n",
       "  <thead>\n",
       "    <tr style=\"text-align: right;\">\n",
       "      <th></th>\n",
       "      <th>Type A</th>\n",
       "      <th>Ping (ms)</th>\n",
       "      <th>Units A</th>\n",
       "      <th>Type B</th>\n",
       "      <th>Download (Mbit/s)</th>\n",
       "      <th>Units B</th>\n",
       "      <th>Type C</th>\n",
       "      <th>Upload (Mbit/s)</th>\n",
       "      <th>Units C</th>\n",
       "      <th>Datetime</th>\n",
       "    </tr>\n",
       "  </thead>\n",
       "  <tbody>\n",
       "    <tr>\n",
       "      <th>0</th>\n",
       "      <td>Ping:</td>\n",
       "      <td>26.992</td>\n",
       "      <td>ms</td>\n",
       "      <td>Download:</td>\n",
       "      <td>91.80</td>\n",
       "      <td>Mbit/s</td>\n",
       "      <td>Upload:</td>\n",
       "      <td>14.31</td>\n",
       "      <td>Mbit/s</td>\n",
       "      <td>2016-11-24 13:36:25</td>\n",
       "    </tr>\n",
       "    <tr>\n",
       "      <th>1</th>\n",
       "      <td>Ping:</td>\n",
       "      <td>24.532</td>\n",
       "      <td>ms</td>\n",
       "      <td>Download:</td>\n",
       "      <td>88.19</td>\n",
       "      <td>Mbit/s</td>\n",
       "      <td>Upload:</td>\n",
       "      <td>14.12</td>\n",
       "      <td>Mbit/s</td>\n",
       "      <td>2016-11-24 13:36:55</td>\n",
       "    </tr>\n",
       "    <tr>\n",
       "      <th>2</th>\n",
       "      <td>Ping:</td>\n",
       "      <td>20.225</td>\n",
       "      <td>ms</td>\n",
       "      <td>Download:</td>\n",
       "      <td>59.86</td>\n",
       "      <td>Mbit/s</td>\n",
       "      <td>Upload:</td>\n",
       "      <td>14.11</td>\n",
       "      <td>Mbit/s</td>\n",
       "      <td>2016-11-24 13:37:25</td>\n",
       "    </tr>\n",
       "  </tbody>\n",
       "</table>\n",
       "</div>"
      ],
      "text/plain": [
       "  Type A Ping (ms) Units A     Type B Download (Mbit/s) Units B   Type C  \\\n",
       "0  Ping:    26.992      ms  Download:             91.80  Mbit/s  Upload:   \n",
       "1  Ping:    24.532      ms  Download:             88.19  Mbit/s  Upload:   \n",
       "2  Ping:    20.225      ms  Download:             59.86  Mbit/s  Upload:   \n",
       "\n",
       "   Upload (Mbit/s) Units C             Datetime  \n",
       "0            14.31  Mbit/s  2016-11-24 13:36:25  \n",
       "1            14.12  Mbit/s  2016-11-24 13:36:55  \n",
       "2            14.11  Mbit/s  2016-11-24 13:37:25  "
      ]
     },
     "execution_count": 72,
     "metadata": {},
     "output_type": "execute_result"
    }
   ],
   "source": [
    "df_compact.rename(columns={'Measure A':'Ping (ms)', \n",
    "                           'Measure B': 'Download (Mbit/s)',\n",
    "                           'Measure C': 'Upload (Mbit/s)'}, inplace=True)\n",
    "df_compact.head(3)"
   ]
  },
  {
   "cell_type": "markdown",
   "metadata": {},
   "source": [
    "c) Because the Types and Units columns are no longer necessary, these columns can be dropped."
   ]
  },
  {
   "cell_type": "code",
   "execution_count": 73,
   "metadata": {},
   "outputs": [
    {
     "data": {
      "text/html": [
       "<div>\n",
       "<style scoped>\n",
       "    .dataframe tbody tr th:only-of-type {\n",
       "        vertical-align: middle;\n",
       "    }\n",
       "\n",
       "    .dataframe tbody tr th {\n",
       "        vertical-align: top;\n",
       "    }\n",
       "\n",
       "    .dataframe thead th {\n",
       "        text-align: right;\n",
       "    }\n",
       "</style>\n",
       "<table border=\"1\" class=\"dataframe\">\n",
       "  <thead>\n",
       "    <tr style=\"text-align: right;\">\n",
       "      <th></th>\n",
       "      <th>Ping (ms)</th>\n",
       "      <th>Download (Mbit/s)</th>\n",
       "      <th>Upload (Mbit/s)</th>\n",
       "      <th>Datetime</th>\n",
       "    </tr>\n",
       "  </thead>\n",
       "  <tbody>\n",
       "    <tr>\n",
       "      <th>0</th>\n",
       "      <td>26.992</td>\n",
       "      <td>91.80</td>\n",
       "      <td>14.31</td>\n",
       "      <td>2016-11-24 13:36:25</td>\n",
       "    </tr>\n",
       "    <tr>\n",
       "      <th>1</th>\n",
       "      <td>24.532</td>\n",
       "      <td>88.19</td>\n",
       "      <td>14.12</td>\n",
       "      <td>2016-11-24 13:36:55</td>\n",
       "    </tr>\n",
       "    <tr>\n",
       "      <th>2</th>\n",
       "      <td>20.225</td>\n",
       "      <td>59.86</td>\n",
       "      <td>14.11</td>\n",
       "      <td>2016-11-24 13:37:25</td>\n",
       "    </tr>\n",
       "    <tr>\n",
       "      <th>3</th>\n",
       "      <td>19.332</td>\n",
       "      <td>91.81</td>\n",
       "      <td>14.22</td>\n",
       "      <td>2016-11-24 13:37:57</td>\n",
       "    </tr>\n",
       "    <tr>\n",
       "      <th>4</th>\n",
       "      <td>22.494</td>\n",
       "      <td>92.05</td>\n",
       "      <td>14.08</td>\n",
       "      <td>2016-11-24 13:38:27</td>\n",
       "    </tr>\n",
       "  </tbody>\n",
       "</table>\n",
       "</div>"
      ],
      "text/plain": [
       "  Ping (ms) Download (Mbit/s)  Upload (Mbit/s)             Datetime\n",
       "0    26.992             91.80            14.31  2016-11-24 13:36:25\n",
       "1    24.532             88.19            14.12  2016-11-24 13:36:55\n",
       "2    20.225             59.86            14.11  2016-11-24 13:37:25\n",
       "3    19.332             91.81            14.22  2016-11-24 13:37:57\n",
       "4    22.494             92.05            14.08  2016-11-24 13:38:27"
      ]
     },
     "execution_count": 73,
     "metadata": {},
     "output_type": "execute_result"
    }
   ],
   "source": [
    "df_compact.drop(['Type A', 'Type B', 'Type C',\n",
    "         'Units A', 'Units B', 'Units C'], axis=1, inplace=True)\n",
    "df_compact.head()"
   ]
  },
  {
   "cell_type": "markdown",
   "metadata": {},
   "source": [
    "In the table above, the `Datetime` field is a string. Pandas and Python offer a number of operations to work with date and time that can be very helpful.\n",
    "\n",
    "In the next step, the string in the `Datetime` column will be separated into two new columns.\n",
    "\n",
    "#### Step 4: Separate data into two columns.\n",
    "In this step, you will use Pandas to generate the columns `Date` and `Time` from the column `Datetime` and then drop the `Datetime` column.\n",
    "<p>The `lambda` function is used create two anonymous functions that extract only the date and the time from a `datetime` object, respectively. Then, use the `pandas` function `apply` to apply this function to an entire column (in practice, `apply` implicitly defines a `for` loop and passes the rows one by one to our `lambda` function). Store the result of the `apply` functions in two new columns of the `DataFrame`."
   ]
  },
  {
   "cell_type": "markdown",
   "metadata": {},
   "source": [
    "a) Apply the `lambda` function to iterate through the data frame to split the date from the `Datetime` column."
   ]
  },
  {
   "cell_type": "code",
   "execution_count": 74,
   "metadata": {},
   "outputs": [],
   "source": [
    "df_compact['Date'] = df_compact['Datetime'].apply(lambda dt_str: pd.to_datetime(dt_str).date())"
   ]
  },
  {
   "cell_type": "markdown",
   "metadata": {},
   "source": [
    "b) Repeat step a to split time from `Datetime` column. "
   ]
  },
  {
   "cell_type": "code",
   "execution_count": 75,
   "metadata": {},
   "outputs": [],
   "source": [
    "temp = df_compact['Datetime'].apply(lambda dt_str: pd.to_datetime(dt_str))\n",
    "df_compact['Time'] = temp.dt.time"
   ]
  },
  {
   "cell_type": "markdown",
   "metadata": {},
   "source": [
    "c) All the information for the `Datetime` column has now been copied to the `Date` and `Time` columnns. The `Datetime` column serves no purpose. The `Datetime` column can be dropped from the data frame.\n",
    "<p>Enter the code to drop the `Datetime` column in the cell below."
   ]
  },
  {
   "cell_type": "code",
   "execution_count": 76,
   "metadata": {},
   "outputs": [],
   "source": [
    "df_compact.drop(['Datetime'], axis=1, inplace=True)"
   ]
  },
  {
   "cell_type": "markdown",
   "metadata": {},
   "source": [
    "Enter the code to print out the first 3 rows of the data frame to verify the changes."
   ]
  },
  {
   "cell_type": "code",
   "execution_count": 77,
   "metadata": {},
   "outputs": [
    {
     "data": {
      "text/html": [
       "<div>\n",
       "<style scoped>\n",
       "    .dataframe tbody tr th:only-of-type {\n",
       "        vertical-align: middle;\n",
       "    }\n",
       "\n",
       "    .dataframe tbody tr th {\n",
       "        vertical-align: top;\n",
       "    }\n",
       "\n",
       "    .dataframe thead th {\n",
       "        text-align: right;\n",
       "    }\n",
       "</style>\n",
       "<table border=\"1\" class=\"dataframe\">\n",
       "  <thead>\n",
       "    <tr style=\"text-align: right;\">\n",
       "      <th></th>\n",
       "      <th>Ping (ms)</th>\n",
       "      <th>Download (Mbit/s)</th>\n",
       "      <th>Upload (Mbit/s)</th>\n",
       "      <th>Date</th>\n",
       "      <th>Time</th>\n",
       "    </tr>\n",
       "  </thead>\n",
       "  <tbody>\n",
       "    <tr>\n",
       "      <th>0</th>\n",
       "      <td>26.992</td>\n",
       "      <td>91.80</td>\n",
       "      <td>14.31</td>\n",
       "      <td>2016-11-24</td>\n",
       "      <td>13:36:25</td>\n",
       "    </tr>\n",
       "    <tr>\n",
       "      <th>1</th>\n",
       "      <td>24.532</td>\n",
       "      <td>88.19</td>\n",
       "      <td>14.12</td>\n",
       "      <td>2016-11-24</td>\n",
       "      <td>13:36:55</td>\n",
       "    </tr>\n",
       "    <tr>\n",
       "      <th>2</th>\n",
       "      <td>20.225</td>\n",
       "      <td>59.86</td>\n",
       "      <td>14.11</td>\n",
       "      <td>2016-11-24</td>\n",
       "      <td>13:37:25</td>\n",
       "    </tr>\n",
       "  </tbody>\n",
       "</table>\n",
       "</div>"
      ],
      "text/plain": [
       "  Ping (ms) Download (Mbit/s)  Upload (Mbit/s)        Date      Time\n",
       "0    26.992             91.80            14.31  2016-11-24  13:36:25\n",
       "1    24.532             88.19            14.12  2016-11-24  13:36:55\n",
       "2    20.225             59.86            14.11  2016-11-24  13:37:25"
      ]
     },
     "execution_count": 77,
     "metadata": {},
     "output_type": "execute_result"
    }
   ],
   "source": [
    "df_compact.head(3)"
   ]
  },
  {
   "cell_type": "markdown",
   "metadata": {},
   "source": [
    "d) Use the `type` function to print out the variable type of the values in the `Date` and `Time` columns."
   ]
  },
  {
   "cell_type": "code",
   "execution_count": 78,
   "metadata": {},
   "outputs": [
    {
     "name": "stdout",
     "output_type": "stream",
     "text": [
      "2016-11-24 <class 'datetime.date'>\n",
      "13:36:25 <class 'datetime.time'>\n"
     ]
    }
   ],
   "source": [
    "print(df_compact['Date'][0], type(df_compact['Date'][0]) )\n",
    "print(df_compact['Time'][0], type(df_compact['Time'][0]) )"
   ]
  },
  {
   "cell_type": "markdown",
   "metadata": {},
   "source": [
    "#### Step 5: Save the new data frame.\n",
    "Save the pandas dataframe `df_compact` as a csv file called `rpi_data_compact`:"
   ]
  },
  {
   "cell_type": "code",
   "execution_count": 79,
   "metadata": {},
   "outputs": [],
   "source": [
    "df_compact.to_csv('./rpi_data_compact.csv')"
   ]
  },
  {
   "cell_type": "markdown",
   "metadata": {},
   "source": [
    "<font size='0.5'>&copy; 2017 Cisco and/or its affiliates. All rights reserved. This document is Cisco Public.<font>"
   ]
  }
 ],
 "metadata": {
  "anaconda-cloud": {},
  "kernelspec": {
   "display_name": "Python 3",
   "language": "python",
   "name": "python3"
  },
  "language_info": {
   "codemirror_mode": {
    "name": "ipython",
    "version": 3
   },
   "file_extension": ".py",
   "mimetype": "text/x-python",
   "name": "python",
   "nbconvert_exporter": "python",
   "pygments_lexer": "ipython3",
   "version": "3.7.3"
  }
 },
 "nbformat": 4,
 "nbformat_minor": 1
}
